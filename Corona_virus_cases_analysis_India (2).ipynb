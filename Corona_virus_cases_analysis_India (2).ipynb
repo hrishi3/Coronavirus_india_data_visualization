{
  "nbformat": 4,
  "nbformat_minor": 0,
  "metadata": {
    "colab": {
      "name": "Corona virus cases analysis India.ipynb",
      "provenance": [],
      "collapsed_sections": []
    },
    "kernelspec": {
      "name": "python3",
      "display_name": "Python 3"
    }
  },
  "cells": [
    {
      "cell_type": "code",
      "metadata": {
        "id": "jxHBqyfQDBx4",
        "colab_type": "code",
        "colab": {}
      },
      "source": [
        "import pandas as pd #Pandas Import\n",
        "df = pd.read_csv('https://query.data.world/s/gmqr4kpnfzeiyd7no3nrumydlfyzix') \n",
        "#Fetching data from Data.World website(download csv \n",
        "#file option is also available)"
      ],
      "execution_count": 0,
      "outputs": []
    },
    {
      "cell_type": "code",
      "metadata": {
        "id": "65jYe0q5SLW9",
        "colab_type": "code",
        "outputId": "ce665d18-4325-4a0d-93ab-b5cad5e7d5a2",
        "colab": {
          "base_uri": "https://localhost:8080/",
          "height": 204
        }
      },
      "source": [
        "df.head()"
      ],
      "execution_count": 4,
      "outputs": [
        {
          "output_type": "execute_result",
          "data": {
            "text/html": [
              "<div>\n",
              "<style scoped>\n",
              "    .dataframe tbody tr th:only-of-type {\n",
              "        vertical-align: middle;\n",
              "    }\n",
              "\n",
              "    .dataframe tbody tr th {\n",
              "        vertical-align: top;\n",
              "    }\n",
              "\n",
              "    .dataframe thead th {\n",
              "        text-align: right;\n",
              "    }\n",
              "</style>\n",
              "<table border=\"1\" class=\"dataframe\">\n",
              "  <thead>\n",
              "    <tr style=\"text-align: right;\">\n",
              "      <th></th>\n",
              "      <th>Case_Type</th>\n",
              "      <th>Cases</th>\n",
              "      <th>Difference</th>\n",
              "      <th>Date</th>\n",
              "      <th>Country_Region</th>\n",
              "      <th>Province_State</th>\n",
              "      <th>Admin2</th>\n",
              "      <th>Combined_Key</th>\n",
              "      <th>FIPS</th>\n",
              "      <th>Lat</th>\n",
              "      <th>Long</th>\n",
              "      <th>Prep_Flow_Runtime</th>\n",
              "      <th>Table_Names</th>\n",
              "    </tr>\n",
              "  </thead>\n",
              "  <tbody>\n",
              "    <tr>\n",
              "      <th>0</th>\n",
              "      <td>Deaths</td>\n",
              "      <td>0.0</td>\n",
              "      <td>0.0</td>\n",
              "      <td>2/27/2020</td>\n",
              "      <td>Bahamas</td>\n",
              "      <td>NaN</td>\n",
              "      <td>NaN</td>\n",
              "      <td>NaN</td>\n",
              "      <td>NaN</td>\n",
              "      <td>25.0343</td>\n",
              "      <td>-77.3963</td>\n",
              "      <td>3/31/2020</td>\n",
              "      <td>Time Series</td>\n",
              "    </tr>\n",
              "    <tr>\n",
              "      <th>1</th>\n",
              "      <td>Confirmed</td>\n",
              "      <td>16.0</td>\n",
              "      <td>0.0</td>\n",
              "      <td>2/16/2020</td>\n",
              "      <td>Germany</td>\n",
              "      <td>NaN</td>\n",
              "      <td>NaN</td>\n",
              "      <td>NaN</td>\n",
              "      <td>NaN</td>\n",
              "      <td>51.0000</td>\n",
              "      <td>9.0000</td>\n",
              "      <td>3/31/2020</td>\n",
              "      <td>Time Series</td>\n",
              "    </tr>\n",
              "    <tr>\n",
              "      <th>2</th>\n",
              "      <td>Deaths</td>\n",
              "      <td>0.0</td>\n",
              "      <td>0.0</td>\n",
              "      <td>1/31/2020</td>\n",
              "      <td>Canada</td>\n",
              "      <td>Alberta</td>\n",
              "      <td>NaN</td>\n",
              "      <td>NaN</td>\n",
              "      <td>NaN</td>\n",
              "      <td>53.9333</td>\n",
              "      <td>-116.5765</td>\n",
              "      <td>3/31/2020</td>\n",
              "      <td>Time Series</td>\n",
              "    </tr>\n",
              "    <tr>\n",
              "      <th>3</th>\n",
              "      <td>Deaths</td>\n",
              "      <td>0.0</td>\n",
              "      <td>0.0</td>\n",
              "      <td>3/4/2020</td>\n",
              "      <td>Australia</td>\n",
              "      <td>Queensland</td>\n",
              "      <td>NaN</td>\n",
              "      <td>NaN</td>\n",
              "      <td>NaN</td>\n",
              "      <td>-28.0167</td>\n",
              "      <td>153.4000</td>\n",
              "      <td>3/31/2020</td>\n",
              "      <td>Time Series</td>\n",
              "    </tr>\n",
              "    <tr>\n",
              "      <th>4</th>\n",
              "      <td>Confirmed</td>\n",
              "      <td>0.0</td>\n",
              "      <td>0.0</td>\n",
              "      <td>1/25/2020</td>\n",
              "      <td>Suriname</td>\n",
              "      <td>NaN</td>\n",
              "      <td>NaN</td>\n",
              "      <td>NaN</td>\n",
              "      <td>NaN</td>\n",
              "      <td>3.9193</td>\n",
              "      <td>-56.0278</td>\n",
              "      <td>3/31/2020</td>\n",
              "      <td>Time Series</td>\n",
              "    </tr>\n",
              "  </tbody>\n",
              "</table>\n",
              "</div>"
            ],
            "text/plain": [
              "   Case_Type  Cases  Difference  ...      Long Prep_Flow_Runtime  Table_Names\n",
              "0     Deaths    0.0         0.0  ...  -77.3963         3/31/2020  Time Series\n",
              "1  Confirmed   16.0         0.0  ...    9.0000         3/31/2020  Time Series\n",
              "2     Deaths    0.0         0.0  ... -116.5765         3/31/2020  Time Series\n",
              "3     Deaths    0.0         0.0  ...  153.4000         3/31/2020  Time Series\n",
              "4  Confirmed    0.0         0.0  ...  -56.0278         3/31/2020  Time Series\n",
              "\n",
              "[5 rows x 13 columns]"
            ]
          },
          "metadata": {
            "tags": []
          },
          "execution_count": 4
        }
      ]
    },
    {
      "cell_type": "code",
      "metadata": {
        "id": "agzh02CTDGBZ",
        "colab_type": "code",
        "outputId": "d1a0b4a6-6e75-4628-8c24-6490b35d7d6e",
        "colab": {
          "base_uri": "https://localhost:8080/",
          "height": 204
        }
      },
      "source": [
        "\n",
        "df['Date']=pd.to_datetime(df.Date) #Converting date into pandas dataframe date format \n",
        "df.head()\n"
      ],
      "execution_count": 5,
      "outputs": [
        {
          "output_type": "execute_result",
          "data": {
            "text/html": [
              "<div>\n",
              "<style scoped>\n",
              "    .dataframe tbody tr th:only-of-type {\n",
              "        vertical-align: middle;\n",
              "    }\n",
              "\n",
              "    .dataframe tbody tr th {\n",
              "        vertical-align: top;\n",
              "    }\n",
              "\n",
              "    .dataframe thead th {\n",
              "        text-align: right;\n",
              "    }\n",
              "</style>\n",
              "<table border=\"1\" class=\"dataframe\">\n",
              "  <thead>\n",
              "    <tr style=\"text-align: right;\">\n",
              "      <th></th>\n",
              "      <th>Case_Type</th>\n",
              "      <th>Cases</th>\n",
              "      <th>Difference</th>\n",
              "      <th>Date</th>\n",
              "      <th>Country_Region</th>\n",
              "      <th>Province_State</th>\n",
              "      <th>Admin2</th>\n",
              "      <th>Combined_Key</th>\n",
              "      <th>FIPS</th>\n",
              "      <th>Lat</th>\n",
              "      <th>Long</th>\n",
              "      <th>Prep_Flow_Runtime</th>\n",
              "      <th>Table_Names</th>\n",
              "    </tr>\n",
              "  </thead>\n",
              "  <tbody>\n",
              "    <tr>\n",
              "      <th>0</th>\n",
              "      <td>Deaths</td>\n",
              "      <td>0.0</td>\n",
              "      <td>0.0</td>\n",
              "      <td>2020-02-27</td>\n",
              "      <td>Bahamas</td>\n",
              "      <td>NaN</td>\n",
              "      <td>NaN</td>\n",
              "      <td>NaN</td>\n",
              "      <td>NaN</td>\n",
              "      <td>25.0343</td>\n",
              "      <td>-77.3963</td>\n",
              "      <td>3/31/2020</td>\n",
              "      <td>Time Series</td>\n",
              "    </tr>\n",
              "    <tr>\n",
              "      <th>1</th>\n",
              "      <td>Confirmed</td>\n",
              "      <td>16.0</td>\n",
              "      <td>0.0</td>\n",
              "      <td>2020-02-16</td>\n",
              "      <td>Germany</td>\n",
              "      <td>NaN</td>\n",
              "      <td>NaN</td>\n",
              "      <td>NaN</td>\n",
              "      <td>NaN</td>\n",
              "      <td>51.0000</td>\n",
              "      <td>9.0000</td>\n",
              "      <td>3/31/2020</td>\n",
              "      <td>Time Series</td>\n",
              "    </tr>\n",
              "    <tr>\n",
              "      <th>2</th>\n",
              "      <td>Deaths</td>\n",
              "      <td>0.0</td>\n",
              "      <td>0.0</td>\n",
              "      <td>2020-01-31</td>\n",
              "      <td>Canada</td>\n",
              "      <td>Alberta</td>\n",
              "      <td>NaN</td>\n",
              "      <td>NaN</td>\n",
              "      <td>NaN</td>\n",
              "      <td>53.9333</td>\n",
              "      <td>-116.5765</td>\n",
              "      <td>3/31/2020</td>\n",
              "      <td>Time Series</td>\n",
              "    </tr>\n",
              "    <tr>\n",
              "      <th>3</th>\n",
              "      <td>Deaths</td>\n",
              "      <td>0.0</td>\n",
              "      <td>0.0</td>\n",
              "      <td>2020-03-04</td>\n",
              "      <td>Australia</td>\n",
              "      <td>Queensland</td>\n",
              "      <td>NaN</td>\n",
              "      <td>NaN</td>\n",
              "      <td>NaN</td>\n",
              "      <td>-28.0167</td>\n",
              "      <td>153.4000</td>\n",
              "      <td>3/31/2020</td>\n",
              "      <td>Time Series</td>\n",
              "    </tr>\n",
              "    <tr>\n",
              "      <th>4</th>\n",
              "      <td>Confirmed</td>\n",
              "      <td>0.0</td>\n",
              "      <td>0.0</td>\n",
              "      <td>2020-01-25</td>\n",
              "      <td>Suriname</td>\n",
              "      <td>NaN</td>\n",
              "      <td>NaN</td>\n",
              "      <td>NaN</td>\n",
              "      <td>NaN</td>\n",
              "      <td>3.9193</td>\n",
              "      <td>-56.0278</td>\n",
              "      <td>3/31/2020</td>\n",
              "      <td>Time Series</td>\n",
              "    </tr>\n",
              "  </tbody>\n",
              "</table>\n",
              "</div>"
            ],
            "text/plain": [
              "   Case_Type  Cases  Difference  ...      Long Prep_Flow_Runtime  Table_Names\n",
              "0     Deaths    0.0         0.0  ...  -77.3963         3/31/2020  Time Series\n",
              "1  Confirmed   16.0         0.0  ...    9.0000         3/31/2020  Time Series\n",
              "2     Deaths    0.0         0.0  ... -116.5765         3/31/2020  Time Series\n",
              "3     Deaths    0.0         0.0  ...  153.4000         3/31/2020  Time Series\n",
              "4  Confirmed    0.0         0.0  ...  -56.0278         3/31/2020  Time Series\n",
              "\n",
              "[5 rows x 13 columns]"
            ]
          },
          "metadata": {
            "tags": []
          },
          "execution_count": 5
        }
      ]
    },
    {
      "cell_type": "code",
      "metadata": {
        "id": "C6QFJAw0D3g8",
        "colab_type": "code",
        "outputId": "aede01ce-a546-413b-c5d3-bbc4c20397ce",
        "colab": {
          "base_uri": "https://localhost:8080/",
          "height": 204
        }
      },
      "source": [
        "df1=df[df['Country_Region']=='India'] #Retriving cases for India\n",
        "df1.head()"
      ],
      "execution_count": 6,
      "outputs": [
        {
          "output_type": "execute_result",
          "data": {
            "text/html": [
              "<div>\n",
              "<style scoped>\n",
              "    .dataframe tbody tr th:only-of-type {\n",
              "        vertical-align: middle;\n",
              "    }\n",
              "\n",
              "    .dataframe tbody tr th {\n",
              "        vertical-align: top;\n",
              "    }\n",
              "\n",
              "    .dataframe thead th {\n",
              "        text-align: right;\n",
              "    }\n",
              "</style>\n",
              "<table border=\"1\" class=\"dataframe\">\n",
              "  <thead>\n",
              "    <tr style=\"text-align: right;\">\n",
              "      <th></th>\n",
              "      <th>Case_Type</th>\n",
              "      <th>Cases</th>\n",
              "      <th>Difference</th>\n",
              "      <th>Date</th>\n",
              "      <th>Country_Region</th>\n",
              "      <th>Province_State</th>\n",
              "      <th>Admin2</th>\n",
              "      <th>Combined_Key</th>\n",
              "      <th>FIPS</th>\n",
              "      <th>Lat</th>\n",
              "      <th>Long</th>\n",
              "      <th>Prep_Flow_Runtime</th>\n",
              "      <th>Table_Names</th>\n",
              "    </tr>\n",
              "  </thead>\n",
              "  <tbody>\n",
              "    <tr>\n",
              "      <th>224</th>\n",
              "      <td>Confirmed</td>\n",
              "      <td>1251.0</td>\n",
              "      <td>227.0</td>\n",
              "      <td>2020-03-30</td>\n",
              "      <td>India</td>\n",
              "      <td>NaN</td>\n",
              "      <td>NaN</td>\n",
              "      <td>NaN</td>\n",
              "      <td>NaN</td>\n",
              "      <td>21.0</td>\n",
              "      <td>78.0</td>\n",
              "      <td>3/31/2020</td>\n",
              "      <td>Time Series</td>\n",
              "    </tr>\n",
              "    <tr>\n",
              "      <th>388</th>\n",
              "      <td>Deaths</td>\n",
              "      <td>0.0</td>\n",
              "      <td>0.0</td>\n",
              "      <td>2020-02-25</td>\n",
              "      <td>India</td>\n",
              "      <td>NaN</td>\n",
              "      <td>NaN</td>\n",
              "      <td>NaN</td>\n",
              "      <td>NaN</td>\n",
              "      <td>21.0</td>\n",
              "      <td>78.0</td>\n",
              "      <td>3/31/2020</td>\n",
              "      <td>Time Series</td>\n",
              "    </tr>\n",
              "    <tr>\n",
              "      <th>394</th>\n",
              "      <td>Deaths</td>\n",
              "      <td>2.0</td>\n",
              "      <td>1.0</td>\n",
              "      <td>2020-03-13</td>\n",
              "      <td>India</td>\n",
              "      <td>NaN</td>\n",
              "      <td>NaN</td>\n",
              "      <td>NaN</td>\n",
              "      <td>NaN</td>\n",
              "      <td>21.0</td>\n",
              "      <td>78.0</td>\n",
              "      <td>3/31/2020</td>\n",
              "      <td>Time Series</td>\n",
              "    </tr>\n",
              "    <tr>\n",
              "      <th>490</th>\n",
              "      <td>Deaths</td>\n",
              "      <td>0.0</td>\n",
              "      <td>0.0</td>\n",
              "      <td>2020-02-12</td>\n",
              "      <td>India</td>\n",
              "      <td>NaN</td>\n",
              "      <td>NaN</td>\n",
              "      <td>NaN</td>\n",
              "      <td>NaN</td>\n",
              "      <td>21.0</td>\n",
              "      <td>78.0</td>\n",
              "      <td>3/31/2020</td>\n",
              "      <td>Time Series</td>\n",
              "    </tr>\n",
              "    <tr>\n",
              "      <th>788</th>\n",
              "      <td>Confirmed</td>\n",
              "      <td>0.0</td>\n",
              "      <td>0.0</td>\n",
              "      <td>2020-01-29</td>\n",
              "      <td>India</td>\n",
              "      <td>NaN</td>\n",
              "      <td>NaN</td>\n",
              "      <td>NaN</td>\n",
              "      <td>NaN</td>\n",
              "      <td>21.0</td>\n",
              "      <td>78.0</td>\n",
              "      <td>3/31/2020</td>\n",
              "      <td>Time Series</td>\n",
              "    </tr>\n",
              "  </tbody>\n",
              "</table>\n",
              "</div>"
            ],
            "text/plain": [
              "     Case_Type   Cases  Difference  ...  Long Prep_Flow_Runtime  Table_Names\n",
              "224  Confirmed  1251.0       227.0  ...  78.0         3/31/2020  Time Series\n",
              "388     Deaths     0.0         0.0  ...  78.0         3/31/2020  Time Series\n",
              "394     Deaths     2.0         1.0  ...  78.0         3/31/2020  Time Series\n",
              "490     Deaths     0.0         0.0  ...  78.0         3/31/2020  Time Series\n",
              "788  Confirmed     0.0         0.0  ...  78.0         3/31/2020  Time Series\n",
              "\n",
              "[5 rows x 13 columns]"
            ]
          },
          "metadata": {
            "tags": []
          },
          "execution_count": 6
        }
      ]
    },
    {
      "cell_type": "code",
      "metadata": {
        "id": "YyMv3UCoEOiW",
        "colab_type": "code",
        "outputId": "a1d48d59-3e28-44d4-f30d-b6ffcb3b13db",
        "colab": {
          "base_uri": "https://localhost:8080/",
          "height": 204
        }
      },
      "source": [
        "df2=df1[df1['Case_Type']=='Confirmed'] #Filtering only confirmed cases\n",
        "df2.head()"
      ],
      "execution_count": 7,
      "outputs": [
        {
          "output_type": "execute_result",
          "data": {
            "text/html": [
              "<div>\n",
              "<style scoped>\n",
              "    .dataframe tbody tr th:only-of-type {\n",
              "        vertical-align: middle;\n",
              "    }\n",
              "\n",
              "    .dataframe tbody tr th {\n",
              "        vertical-align: top;\n",
              "    }\n",
              "\n",
              "    .dataframe thead th {\n",
              "        text-align: right;\n",
              "    }\n",
              "</style>\n",
              "<table border=\"1\" class=\"dataframe\">\n",
              "  <thead>\n",
              "    <tr style=\"text-align: right;\">\n",
              "      <th></th>\n",
              "      <th>Case_Type</th>\n",
              "      <th>Cases</th>\n",
              "      <th>Difference</th>\n",
              "      <th>Date</th>\n",
              "      <th>Country_Region</th>\n",
              "      <th>Province_State</th>\n",
              "      <th>Admin2</th>\n",
              "      <th>Combined_Key</th>\n",
              "      <th>FIPS</th>\n",
              "      <th>Lat</th>\n",
              "      <th>Long</th>\n",
              "      <th>Prep_Flow_Runtime</th>\n",
              "      <th>Table_Names</th>\n",
              "    </tr>\n",
              "  </thead>\n",
              "  <tbody>\n",
              "    <tr>\n",
              "      <th>224</th>\n",
              "      <td>Confirmed</td>\n",
              "      <td>1251.0</td>\n",
              "      <td>227.0</td>\n",
              "      <td>2020-03-30</td>\n",
              "      <td>India</td>\n",
              "      <td>NaN</td>\n",
              "      <td>NaN</td>\n",
              "      <td>NaN</td>\n",
              "      <td>NaN</td>\n",
              "      <td>21.0</td>\n",
              "      <td>78.0</td>\n",
              "      <td>3/31/2020</td>\n",
              "      <td>Time Series</td>\n",
              "    </tr>\n",
              "    <tr>\n",
              "      <th>788</th>\n",
              "      <td>Confirmed</td>\n",
              "      <td>0.0</td>\n",
              "      <td>0.0</td>\n",
              "      <td>2020-01-29</td>\n",
              "      <td>India</td>\n",
              "      <td>NaN</td>\n",
              "      <td>NaN</td>\n",
              "      <td>NaN</td>\n",
              "      <td>NaN</td>\n",
              "      <td>21.0</td>\n",
              "      <td>78.0</td>\n",
              "      <td>3/31/2020</td>\n",
              "      <td>Time Series</td>\n",
              "    </tr>\n",
              "    <tr>\n",
              "      <th>1556</th>\n",
              "      <td>Confirmed</td>\n",
              "      <td>62.0</td>\n",
              "      <td>6.0</td>\n",
              "      <td>2020-03-11</td>\n",
              "      <td>India</td>\n",
              "      <td>NaN</td>\n",
              "      <td>NaN</td>\n",
              "      <td>NaN</td>\n",
              "      <td>NaN</td>\n",
              "      <td>21.0</td>\n",
              "      <td>78.0</td>\n",
              "      <td>3/31/2020</td>\n",
              "      <td>Time Series</td>\n",
              "    </tr>\n",
              "    <tr>\n",
              "      <th>1757</th>\n",
              "      <td>Confirmed</td>\n",
              "      <td>3.0</td>\n",
              "      <td>0.0</td>\n",
              "      <td>2020-02-16</td>\n",
              "      <td>India</td>\n",
              "      <td>NaN</td>\n",
              "      <td>NaN</td>\n",
              "      <td>NaN</td>\n",
              "      <td>NaN</td>\n",
              "      <td>21.0</td>\n",
              "      <td>78.0</td>\n",
              "      <td>3/31/2020</td>\n",
              "      <td>Time Series</td>\n",
              "    </tr>\n",
              "    <tr>\n",
              "      <th>2290</th>\n",
              "      <td>Confirmed</td>\n",
              "      <td>0.0</td>\n",
              "      <td>0.0</td>\n",
              "      <td>2020-01-25</td>\n",
              "      <td>India</td>\n",
              "      <td>NaN</td>\n",
              "      <td>NaN</td>\n",
              "      <td>NaN</td>\n",
              "      <td>NaN</td>\n",
              "      <td>21.0</td>\n",
              "      <td>78.0</td>\n",
              "      <td>3/31/2020</td>\n",
              "      <td>Time Series</td>\n",
              "    </tr>\n",
              "  </tbody>\n",
              "</table>\n",
              "</div>"
            ],
            "text/plain": [
              "      Case_Type   Cases  Difference  ...  Long Prep_Flow_Runtime  Table_Names\n",
              "224   Confirmed  1251.0       227.0  ...  78.0         3/31/2020  Time Series\n",
              "788   Confirmed     0.0         0.0  ...  78.0         3/31/2020  Time Series\n",
              "1556  Confirmed    62.0         6.0  ...  78.0         3/31/2020  Time Series\n",
              "1757  Confirmed     3.0         0.0  ...  78.0         3/31/2020  Time Series\n",
              "2290  Confirmed     0.0         0.0  ...  78.0         3/31/2020  Time Series\n",
              "\n",
              "[5 rows x 13 columns]"
            ]
          },
          "metadata": {
            "tags": []
          },
          "execution_count": 7
        }
      ]
    },
    {
      "cell_type": "code",
      "metadata": {
        "id": "41nqdHNRFFaY",
        "colab_type": "code",
        "colab": {}
      },
      "source": [
        "df2=df2.sort_values(by='Date') #Sort records by date \n",
        "df2['Date']=df2['Date'].astype('datetime64[ns]')"
      ],
      "execution_count": 0,
      "outputs": []
    },
    {
      "cell_type": "code",
      "metadata": {
        "id": "HYVlgxGiGh9t",
        "colab_type": "code",
        "outputId": "67afa32d-2a9a-4d17-cd7e-51a5971dfc92",
        "colab": {
          "base_uri": "https://localhost:8080/",
          "height": 204
        }
      },
      "source": [
        "df3=df2.filter(['Date','Cases','Difference'],axis=1) #Filtering only required data\n",
        "df3=df3.iloc[39:] #Taking data from 1st March onwards\n",
        "df3.head()"
      ],
      "execution_count": 20,
      "outputs": [
        {
          "output_type": "execute_result",
          "data": {
            "text/html": [
              "<div>\n",
              "<style scoped>\n",
              "    .dataframe tbody tr th:only-of-type {\n",
              "        vertical-align: middle;\n",
              "    }\n",
              "\n",
              "    .dataframe tbody tr th {\n",
              "        vertical-align: top;\n",
              "    }\n",
              "\n",
              "    .dataframe thead th {\n",
              "        text-align: right;\n",
              "    }\n",
              "</style>\n",
              "<table border=\"1\" class=\"dataframe\">\n",
              "  <thead>\n",
              "    <tr style=\"text-align: right;\">\n",
              "      <th></th>\n",
              "      <th>Date</th>\n",
              "      <th>Cases</th>\n",
              "      <th>Difference</th>\n",
              "    </tr>\n",
              "  </thead>\n",
              "  <tbody>\n",
              "    <tr>\n",
              "      <th>18305</th>\n",
              "      <td>2020-03-01</td>\n",
              "      <td>3.0</td>\n",
              "      <td>0.0</td>\n",
              "    </tr>\n",
              "    <tr>\n",
              "      <th>14911</th>\n",
              "      <td>2020-03-02</td>\n",
              "      <td>5.0</td>\n",
              "      <td>2.0</td>\n",
              "    </tr>\n",
              "    <tr>\n",
              "      <th>19933</th>\n",
              "      <td>2020-03-03</td>\n",
              "      <td>5.0</td>\n",
              "      <td>0.0</td>\n",
              "    </tr>\n",
              "    <tr>\n",
              "      <th>3929</th>\n",
              "      <td>2020-03-04</td>\n",
              "      <td>28.0</td>\n",
              "      <td>23.0</td>\n",
              "    </tr>\n",
              "    <tr>\n",
              "      <th>34269</th>\n",
              "      <td>2020-03-05</td>\n",
              "      <td>30.0</td>\n",
              "      <td>2.0</td>\n",
              "    </tr>\n",
              "  </tbody>\n",
              "</table>\n",
              "</div>"
            ],
            "text/plain": [
              "            Date  Cases  Difference\n",
              "18305 2020-03-01    3.0         0.0\n",
              "14911 2020-03-02    5.0         2.0\n",
              "19933 2020-03-03    5.0         0.0\n",
              "3929  2020-03-04   28.0        23.0\n",
              "34269 2020-03-05   30.0         2.0"
            ]
          },
          "metadata": {
            "tags": []
          },
          "execution_count": 20
        }
      ]
    },
    {
      "cell_type": "code",
      "metadata": {
        "id": "ioJqD_QPbvAs",
        "colab_type": "code",
        "outputId": "9b6fac02-6669-4661-813f-3abb466904a0",
        "colab": {
          "base_uri": "https://localhost:8080/",
          "height": 279
        }
      },
      "source": [
        "import matplotlib.pyplot as plt      \n",
        "plt.plot(df3['Date'].dt.day,df3['Cases'])\n",
        "plt.xlabel('Date(from March 1st)')\n",
        "plt.ylabel('Cases')\n",
        "plt.grid(which='major', linestyle='-', linewidth='0.5', color='red')\n",
        "#Plotting line plot using Matplotlib only:- Date vs Cases"
      ],
      "execution_count": 10,
      "outputs": [
        {
          "output_type": "display_data",
          "data": {
            "image/png": "[encoded data removed]",
            "text/plain": [
              "<Figure size 432x288 with 1 Axes>"
            ]
          },
          "metadata": {
            "tags": []
          }
        }
      ]
    },
    {
      "cell_type": "code",
      "metadata": {
        "id": "7j3R4uBqZHs2",
        "colab_type": "code",
        "outputId": "7fcf96e2-bd84-40ba-ec0b-ce514c932105",
        "colab": {
          "base_uri": "https://localhost:8080/",
          "height": 279
        }
      },
      "source": [
        "plt.plot(df3['Date'].dt.day,df3['Difference'])\n",
        "plt.xlabel('Date(from March 1st)')\n",
        "plt.ylabel('New cases on day')\n",
        "plt.grid(which='major', linestyle='-', linewidth='0.5', color='red')\n",
        "#Plotting daily found cases (diffrence)\n",
        "#Source data not updated properly for this graph at this point of time"
      ],
      "execution_count": 11,
      "outputs": [
        {
          "output_type": "display_data",
          "data": {
            "image/png": "[encoded data removed]",
            "text/plain": [
              "<Figure size 432x288 with 1 Axes>"
            ]
          },
          "metadata": {
            "tags": []
          }
        }
      ]
    },
    {
      "cell_type": "code",
      "metadata": {
        "id": "fyZ0ujPVdf-P",
        "colab_type": "code",
        "outputId": "e6bcd038-a64f-4ce1-f0cf-c26b6b0bf3fa",
        "colab": {
          "base_uri": "https://localhost:8080/",
          "height": 314
        }
      },
      "source": [
        "#Plotting Cases vs Date using pandas line plot\n",
        "fig, ax = plt.subplots()\n",
        "df3.plot(kind='line', x='Date', y='Cases', ax=ax) \n",
        "\n",
        "# Customize the major grid \n",
        "ax.grid(which='major', linestyle='-', linewidth='0.5', color='red')\n",
        "# Customize the minor grid\n",
        "ax.grid(which='minor', linestyle=':', linewidth='0.5', color='black')"
      ],
      "execution_count": 12,
      "outputs": [
        {
          "output_type": "display_data",
          "data": {
            "image/png": "[encoded data removed]",
            "text/plain": [
              "<Figure size 432x288 with 1 Axes>"
            ]
          },
          "metadata": {
            "tags": []
          }
        }
      ]
    },
    {
      "cell_type": "code",
      "metadata": {
        "id": "8FtSe3mAbGsr",
        "colab_type": "code",
        "outputId": "9cabf0c7-7394-4bcd-bd7d-9b9e436a4f1f",
        "colab": {
          "base_uri": "https://localhost:8080/",
          "height": 314
        }
      },
      "source": [
        "#Plotting Cases vs Diffrence(daily cases found) using pandas line plot\n",
        "\n",
        "fig, ax = plt.subplots()\n",
        "df3.plot(kind='line', x='Date', y='Difference', ax=ax)\n",
        "ax.grid(axis='both',linestyle='-', linewidth='0.5', color='red')\n",
        "\n",
        "# Customize the major grid#\n",
        "ax.grid(which='major', linestyle='-', linewidth='0.5', color='red')\n",
        "# Customize the minor grid\n",
        "ax.grid(which='minor', linestyle=':', linewidth='0.5', color='black')\n",
        "from google.colab import files\n",
        "plt.savefig(\"abc.png\") #saving Graph in png form\n",
        "files.download(\"abc.png\") #Downloading Graph"
      ],
      "execution_count": 13,
      "outputs": [
        {
          "output_type": "display_data",
          "data": {
            "image/png": "[encoded data removed]",
            "text/plain": [
              "<Figure size 432x288 with 1 Axes>"
            ]
          },
          "metadata": {
            "tags": []
          }
        }
      ]
    },
    {
      "cell_type": "code",
      "metadata": {
        "id": "OLoBTDUfcYcr",
        "colab_type": "code",
        "outputId": "c9cda53a-3bc2-4595-98a0-2a16d9c2919f",
        "colab": {
          "base_uri": "https://localhost:8080/",
          "height": 314
        }
      },
      "source": [
        "#Plotting both cases and diffrence in one gragh\n",
        "fig, ax = plt.subplots()\n",
        "df3.plot(kind='line', x='Date', y='Cases', ax=ax)\n",
        "df3.plot(kind='line', x='Date', y='Difference', ax=ax)\n",
        "\n",
        "# Customize the major grid\n",
        "ax.grid(which='major', linestyle='-', linewidth='0.5', color='red')\n",
        "# Customize the minor grid\n",
        "ax.grid(which='minor', linestyle=':', linewidth='0.5', color='black')"
      ],
      "execution_count": 14,
      "outputs": [
        {
          "output_type": "display_data",
          "data": {
            "image/png": "[encoded data removed]",
            "text/plain": [
              "<Figure size 432x288 with 1 Axes>"
            ]
          },
          "metadata": {
            "tags": []
          }
        }
      ]
    },
    {
      "cell_type": "code",
      "metadata": {
        "id": "3y7p8TdHdy5C",
        "colab_type": "code",
        "outputId": "44b6f2dd-13e6-42f2-e4f6-bd21fbdf2552",
        "colab": {
          "base_uri": "https://localhost:8080/",
          "height": 235
        }
      },
      "source": [
        "# Creating Pivot table for converting case type rows to columns\n",
        "#New columns like confirmed and Deaths are created with corrosponding values \n",
        "d1=df1.pivot_table('Cases',['Country_Region','Date'],'Case_Type')\n",
        "d1.head()"
      ],
      "execution_count": 15,
      "outputs": [
        {
          "output_type": "execute_result",
          "data": {
            "text/html": [
              "<div>\n",
              "<style scoped>\n",
              "    .dataframe tbody tr th:only-of-type {\n",
              "        vertical-align: middle;\n",
              "    }\n",
              "\n",
              "    .dataframe tbody tr th {\n",
              "        vertical-align: top;\n",
              "    }\n",
              "\n",
              "    .dataframe thead th {\n",
              "        text-align: right;\n",
              "    }\n",
              "</style>\n",
              "<table border=\"1\" class=\"dataframe\">\n",
              "  <thead>\n",
              "    <tr style=\"text-align: right;\">\n",
              "      <th></th>\n",
              "      <th>Case_Type</th>\n",
              "      <th>Confirmed</th>\n",
              "      <th>Deaths</th>\n",
              "    </tr>\n",
              "    <tr>\n",
              "      <th>Country_Region</th>\n",
              "      <th>Date</th>\n",
              "      <th></th>\n",
              "      <th></th>\n",
              "    </tr>\n",
              "  </thead>\n",
              "  <tbody>\n",
              "    <tr>\n",
              "      <th rowspan=\"5\" valign=\"top\">India</th>\n",
              "      <th>2020-01-22</th>\n",
              "      <td>0.0</td>\n",
              "      <td>0.0</td>\n",
              "    </tr>\n",
              "    <tr>\n",
              "      <th>2020-01-23</th>\n",
              "      <td>0.0</td>\n",
              "      <td>0.0</td>\n",
              "    </tr>\n",
              "    <tr>\n",
              "      <th>2020-01-24</th>\n",
              "      <td>0.0</td>\n",
              "      <td>0.0</td>\n",
              "    </tr>\n",
              "    <tr>\n",
              "      <th>2020-01-25</th>\n",
              "      <td>0.0</td>\n",
              "      <td>0.0</td>\n",
              "    </tr>\n",
              "    <tr>\n",
              "      <th>2020-01-26</th>\n",
              "      <td>0.0</td>\n",
              "      <td>0.0</td>\n",
              "    </tr>\n",
              "  </tbody>\n",
              "</table>\n",
              "</div>"
            ],
            "text/plain": [
              "Case_Type                  Confirmed  Deaths\n",
              "Country_Region Date                         \n",
              "India          2020-01-22        0.0     0.0\n",
              "               2020-01-23        0.0     0.0\n",
              "               2020-01-24        0.0     0.0\n",
              "               2020-01-25        0.0     0.0\n",
              "               2020-01-26        0.0     0.0"
            ]
          },
          "metadata": {
            "tags": []
          },
          "execution_count": 15
        }
      ]
    },
    {
      "cell_type": "code",
      "metadata": {
        "id": "vLnW5pfqeeDU",
        "colab_type": "code",
        "outputId": "4617afba-c729-4d17-a55e-86f933edffd6",
        "colab": {
          "base_uri": "https://localhost:8080/",
          "height": 204
        }
      },
      "source": [
        "#Converting pivot table to dataframe fro plotting\n",
        "d2=pd.DataFrame(d1.to_records())\n",
        "d2=d2.iloc[39:]#filtering records from 1st March onwards\n",
        "d2.head()"
      ],
      "execution_count": 16,
      "outputs": [
        {
          "output_type": "execute_result",
          "data": {
            "text/html": [
              "<div>\n",
              "<style scoped>\n",
              "    .dataframe tbody tr th:only-of-type {\n",
              "        vertical-align: middle;\n",
              "    }\n",
              "\n",
              "    .dataframe tbody tr th {\n",
              "        vertical-align: top;\n",
              "    }\n",
              "\n",
              "    .dataframe thead th {\n",
              "        text-align: right;\n",
              "    }\n",
              "</style>\n",
              "<table border=\"1\" class=\"dataframe\">\n",
              "  <thead>\n",
              "    <tr style=\"text-align: right;\">\n",
              "      <th></th>\n",
              "      <th>Country_Region</th>\n",
              "      <th>Date</th>\n",
              "      <th>Confirmed</th>\n",
              "      <th>Deaths</th>\n",
              "    </tr>\n",
              "  </thead>\n",
              "  <tbody>\n",
              "    <tr>\n",
              "      <th>39</th>\n",
              "      <td>India</td>\n",
              "      <td>2020-03-01</td>\n",
              "      <td>3.0</td>\n",
              "      <td>0.0</td>\n",
              "    </tr>\n",
              "    <tr>\n",
              "      <th>40</th>\n",
              "      <td>India</td>\n",
              "      <td>2020-03-02</td>\n",
              "      <td>5.0</td>\n",
              "      <td>0.0</td>\n",
              "    </tr>\n",
              "    <tr>\n",
              "      <th>41</th>\n",
              "      <td>India</td>\n",
              "      <td>2020-03-03</td>\n",
              "      <td>5.0</td>\n",
              "      <td>0.0</td>\n",
              "    </tr>\n",
              "    <tr>\n",
              "      <th>42</th>\n",
              "      <td>India</td>\n",
              "      <td>2020-03-04</td>\n",
              "      <td>28.0</td>\n",
              "      <td>0.0</td>\n",
              "    </tr>\n",
              "    <tr>\n",
              "      <th>43</th>\n",
              "      <td>India</td>\n",
              "      <td>2020-03-05</td>\n",
              "      <td>30.0</td>\n",
              "      <td>0.0</td>\n",
              "    </tr>\n",
              "  </tbody>\n",
              "</table>\n",
              "</div>"
            ],
            "text/plain": [
              "   Country_Region       Date  Confirmed  Deaths\n",
              "39          India 2020-03-01        3.0     0.0\n",
              "40          India 2020-03-02        5.0     0.0\n",
              "41          India 2020-03-03        5.0     0.0\n",
              "42          India 2020-03-04       28.0     0.0\n",
              "43          India 2020-03-05       30.0     0.0"
            ]
          },
          "metadata": {
            "tags": []
          },
          "execution_count": 16
        }
      ]
    },
    {
      "cell_type": "code",
      "metadata": {
        "id": "mPYTqQTVe0bN",
        "colab_type": "code",
        "outputId": "692781fe-a4a4-420e-9510-e1d3cac62037",
        "colab": {
          "base_uri": "https://localhost:8080/",
          "height": 314
        }
      },
      "source": [
        "#Plotting cases and deaths on single graph using pandas line plot\n",
        "fig, ax = plt.subplots()\n",
        "d2.plot(kind='line', x='Date', y='Confirmed', ax=ax)\n",
        "d2.plot(kind='line', x='Date', y='Deaths', ax=ax)\n",
        "\n",
        "# Customize the major grid\n",
        "ax.grid(which='major', linestyle='-', linewidth='0.5', color='red')\n",
        "# Customize the minor grid\n",
        "ax.grid(which='minor', linestyle=':', linewidth='0.5', color='black')"
      ],
      "execution_count": 17,
      "outputs": [
        {
          "output_type": "display_data",
          "data": {
            "image/png": "[encoded data removed]",
            "text/plain": [
              "<Figure size 432x288 with 1 Axes>"
            ]
          },
          "metadata": {
            "tags": []
          }
        }
      ]
    }
  ]
}