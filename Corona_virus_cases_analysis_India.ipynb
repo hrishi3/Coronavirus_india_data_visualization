{
  "nbformat": 4,
  "nbformat_minor": 0,
  "metadata": {
    "colab": {
      "name": "Corona virus cases analysis India.ipynb",
      "provenance": [],
      "collapsed_sections": []
    },
    "kernelspec": {
      "name": "python3",
      "display_name": "Python 3"
    }
  },
  "cells": [
    {
      "cell_type": "code",
      "metadata": {
        "id": "jxHBqyfQDBx4",
        "colab_type": "code",
        "colab": {}
      },
      "source": [
        "import pandas as pd #Pandas Import\n",
        "df = pd.read_csv('https://query.data.world/s/gmqr4kpnfzeiyd7no3nrumydlfyzix') \n",
        "#Fetching data from Data.World website(download csv \n",
        "#file option is also available)"
      ],
      "execution_count": 0,
      "outputs": []
    },
    {
      "cell_type": "code",
      "metadata": {
        "id": "65jYe0q5SLW9",
        "colab_type": "code",
        "colab": {
          "base_uri": "https://localhost:8080/",
          "height": 306
        },
        "outputId": "1a9e500e-c2bb-497a-8280-8397b85ffa7c"
      },
      "source": [
        "df.head()"
      ],
      "execution_count": 20,
      "outputs": [
        {
          "output_type": "execute_result",
          "data": {
            "text/html": [
              "<div>\n",
              "<style scoped>\n",
              "    .dataframe tbody tr th:only-of-type {\n",
              "        vertical-align: middle;\n",
              "    }\n",
              "\n",
              "    .dataframe tbody tr th {\n",
              "        vertical-align: top;\n",
              "    }\n",
              "\n",
              "    .dataframe thead th {\n",
              "        text-align: right;\n",
              "    }\n",
              "</style>\n",
              "<table border=\"1\" class=\"dataframe\">\n",
              "  <thead>\n",
              "    <tr style=\"text-align: right;\">\n",
              "      <th></th>\n",
              "      <th>Table Names</th>\n",
              "      <th>Case_Type</th>\n",
              "      <th>Cases</th>\n",
              "      <th>Difference</th>\n",
              "      <th>Date</th>\n",
              "      <th>Country_Region</th>\n",
              "      <th>Province_State</th>\n",
              "      <th>Admin2</th>\n",
              "      <th>FIPS</th>\n",
              "      <th>Combined_Key</th>\n",
              "      <th>Lat</th>\n",
              "      <th>Long</th>\n",
              "      <th>Prep_Flow_Runtime</th>\n",
              "      <th>Latest_Date</th>\n",
              "    </tr>\n",
              "  </thead>\n",
              "  <tbody>\n",
              "    <tr>\n",
              "      <th>0</th>\n",
              "      <td>JHU Daily</td>\n",
              "      <td>Deaths</td>\n",
              "      <td>0</td>\n",
              "      <td>0</td>\n",
              "      <td>2020-03-25</td>\n",
              "      <td>US</td>\n",
              "      <td>Virgin Islands</td>\n",
              "      <td>NaN</td>\n",
              "      <td>78000.0</td>\n",
              "      <td>Virgin Islands, US</td>\n",
              "      <td>18.3358</td>\n",
              "      <td>-64.8963</td>\n",
              "      <td>3/26/2020 7:50:18 AM</td>\n",
              "      <td>3/25/2020</td>\n",
              "    </tr>\n",
              "    <tr>\n",
              "      <th>1</th>\n",
              "      <td>JHU Daily</td>\n",
              "      <td>Confirmed</td>\n",
              "      <td>17</td>\n",
              "      <td>0</td>\n",
              "      <td>2020-03-25</td>\n",
              "      <td>US</td>\n",
              "      <td>Virgin Islands</td>\n",
              "      <td>NaN</td>\n",
              "      <td>78000.0</td>\n",
              "      <td>Virgin Islands, US</td>\n",
              "      <td>18.3358</td>\n",
              "      <td>-64.8963</td>\n",
              "      <td>3/26/2020 7:50:18 AM</td>\n",
              "      <td>3/25/2020</td>\n",
              "    </tr>\n",
              "    <tr>\n",
              "      <th>2</th>\n",
              "      <td>JHU Daily</td>\n",
              "      <td>Deaths</td>\n",
              "      <td>2</td>\n",
              "      <td>0</td>\n",
              "      <td>2020-03-25</td>\n",
              "      <td>US</td>\n",
              "      <td>Puerto Rico</td>\n",
              "      <td>NaN</td>\n",
              "      <td>NaN</td>\n",
              "      <td>Puerto Rico, US</td>\n",
              "      <td>18.2208</td>\n",
              "      <td>-66.5901</td>\n",
              "      <td>3/26/2020 7:50:18 AM</td>\n",
              "      <td>3/25/2020</td>\n",
              "    </tr>\n",
              "    <tr>\n",
              "      <th>3</th>\n",
              "      <td>JHU Daily</td>\n",
              "      <td>Confirmed</td>\n",
              "      <td>51</td>\n",
              "      <td>0</td>\n",
              "      <td>2020-03-25</td>\n",
              "      <td>US</td>\n",
              "      <td>Puerto Rico</td>\n",
              "      <td>NaN</td>\n",
              "      <td>NaN</td>\n",
              "      <td>Puerto Rico, US</td>\n",
              "      <td>18.2208</td>\n",
              "      <td>-66.5901</td>\n",
              "      <td>3/26/2020 7:50:18 AM</td>\n",
              "      <td>3/25/2020</td>\n",
              "    </tr>\n",
              "    <tr>\n",
              "      <th>4</th>\n",
              "      <td>JHU Daily</td>\n",
              "      <td>Deaths</td>\n",
              "      <td>1</td>\n",
              "      <td>0</td>\n",
              "      <td>2020-03-25</td>\n",
              "      <td>US</td>\n",
              "      <td>Guam</td>\n",
              "      <td>NaN</td>\n",
              "      <td>66000.0</td>\n",
              "      <td>Guam, US</td>\n",
              "      <td>13.4443</td>\n",
              "      <td>144.7937</td>\n",
              "      <td>3/26/2020 7:50:18 AM</td>\n",
              "      <td>3/25/2020</td>\n",
              "    </tr>\n",
              "  </tbody>\n",
              "</table>\n",
              "</div>"
            ],
            "text/plain": [
              "  Table Names  Case_Type  Cases  ...      Long     Prep_Flow_Runtime Latest_Date\n",
              "0   JHU Daily     Deaths      0  ...  -64.8963  3/26/2020 7:50:18 AM   3/25/2020\n",
              "1   JHU Daily  Confirmed     17  ...  -64.8963  3/26/2020 7:50:18 AM   3/25/2020\n",
              "2   JHU Daily     Deaths      2  ...  -66.5901  3/26/2020 7:50:18 AM   3/25/2020\n",
              "3   JHU Daily  Confirmed     51  ...  -66.5901  3/26/2020 7:50:18 AM   3/25/2020\n",
              "4   JHU Daily     Deaths      1  ...  144.7937  3/26/2020 7:50:18 AM   3/25/2020\n",
              "\n",
              "[5 rows x 14 columns]"
            ]
          },
          "metadata": {
            "tags": []
          },
          "execution_count": 20
        }
      ]
    },
    {
      "cell_type": "code",
      "metadata": {
        "id": "agzh02CTDGBZ",
        "colab_type": "code",
        "outputId": "c70d6d58-aa5e-4e9e-a38f-b890251e5885",
        "colab": {
          "base_uri": "https://localhost:8080/",
          "height": 306
        }
      },
      "source": [
        "\n",
        "df['Date']=pd.to_datetime(df.Date) #Converting date into pandas dataframe date format \n",
        "df.head()\n"
      ],
      "execution_count": 21,
      "outputs": [
        {
          "output_type": "execute_result",
          "data": {
            "text/html": [
              "<div>\n",
              "<style scoped>\n",
              "    .dataframe tbody tr th:only-of-type {\n",
              "        vertical-align: middle;\n",
              "    }\n",
              "\n",
              "    .dataframe tbody tr th {\n",
              "        vertical-align: top;\n",
              "    }\n",
              "\n",
              "    .dataframe thead th {\n",
              "        text-align: right;\n",
              "    }\n",
              "</style>\n",
              "<table border=\"1\" class=\"dataframe\">\n",
              "  <thead>\n",
              "    <tr style=\"text-align: right;\">\n",
              "      <th></th>\n",
              "      <th>Table Names</th>\n",
              "      <th>Case_Type</th>\n",
              "      <th>Cases</th>\n",
              "      <th>Difference</th>\n",
              "      <th>Date</th>\n",
              "      <th>Country_Region</th>\n",
              "      <th>Province_State</th>\n",
              "      <th>Admin2</th>\n",
              "      <th>FIPS</th>\n",
              "      <th>Combined_Key</th>\n",
              "      <th>Lat</th>\n",
              "      <th>Long</th>\n",
              "      <th>Prep_Flow_Runtime</th>\n",
              "      <th>Latest_Date</th>\n",
              "    </tr>\n",
              "  </thead>\n",
              "  <tbody>\n",
              "    <tr>\n",
              "      <th>0</th>\n",
              "      <td>JHU Daily</td>\n",
              "      <td>Deaths</td>\n",
              "      <td>0</td>\n",
              "      <td>0</td>\n",
              "      <td>2020-03-25</td>\n",
              "      <td>US</td>\n",
              "      <td>Virgin Islands</td>\n",
              "      <td>NaN</td>\n",
              "      <td>78000.0</td>\n",
              "      <td>Virgin Islands, US</td>\n",
              "      <td>18.3358</td>\n",
              "      <td>-64.8963</td>\n",
              "      <td>3/26/2020 7:50:18 AM</td>\n",
              "      <td>3/25/2020</td>\n",
              "    </tr>\n",
              "    <tr>\n",
              "      <th>1</th>\n",
              "      <td>JHU Daily</td>\n",
              "      <td>Confirmed</td>\n",
              "      <td>17</td>\n",
              "      <td>0</td>\n",
              "      <td>2020-03-25</td>\n",
              "      <td>US</td>\n",
              "      <td>Virgin Islands</td>\n",
              "      <td>NaN</td>\n",
              "      <td>78000.0</td>\n",
              "      <td>Virgin Islands, US</td>\n",
              "      <td>18.3358</td>\n",
              "      <td>-64.8963</td>\n",
              "      <td>3/26/2020 7:50:18 AM</td>\n",
              "      <td>3/25/2020</td>\n",
              "    </tr>\n",
              "    <tr>\n",
              "      <th>2</th>\n",
              "      <td>JHU Daily</td>\n",
              "      <td>Deaths</td>\n",
              "      <td>2</td>\n",
              "      <td>0</td>\n",
              "      <td>2020-03-25</td>\n",
              "      <td>US</td>\n",
              "      <td>Puerto Rico</td>\n",
              "      <td>NaN</td>\n",
              "      <td>NaN</td>\n",
              "      <td>Puerto Rico, US</td>\n",
              "      <td>18.2208</td>\n",
              "      <td>-66.5901</td>\n",
              "      <td>3/26/2020 7:50:18 AM</td>\n",
              "      <td>3/25/2020</td>\n",
              "    </tr>\n",
              "    <tr>\n",
              "      <th>3</th>\n",
              "      <td>JHU Daily</td>\n",
              "      <td>Confirmed</td>\n",
              "      <td>51</td>\n",
              "      <td>0</td>\n",
              "      <td>2020-03-25</td>\n",
              "      <td>US</td>\n",
              "      <td>Puerto Rico</td>\n",
              "      <td>NaN</td>\n",
              "      <td>NaN</td>\n",
              "      <td>Puerto Rico, US</td>\n",
              "      <td>18.2208</td>\n",
              "      <td>-66.5901</td>\n",
              "      <td>3/26/2020 7:50:18 AM</td>\n",
              "      <td>3/25/2020</td>\n",
              "    </tr>\n",
              "    <tr>\n",
              "      <th>4</th>\n",
              "      <td>JHU Daily</td>\n",
              "      <td>Deaths</td>\n",
              "      <td>1</td>\n",
              "      <td>0</td>\n",
              "      <td>2020-03-25</td>\n",
              "      <td>US</td>\n",
              "      <td>Guam</td>\n",
              "      <td>NaN</td>\n",
              "      <td>66000.0</td>\n",
              "      <td>Guam, US</td>\n",
              "      <td>13.4443</td>\n",
              "      <td>144.7937</td>\n",
              "      <td>3/26/2020 7:50:18 AM</td>\n",
              "      <td>3/25/2020</td>\n",
              "    </tr>\n",
              "  </tbody>\n",
              "</table>\n",
              "</div>"
            ],
            "text/plain": [
              "  Table Names  Case_Type  Cases  ...      Long     Prep_Flow_Runtime Latest_Date\n",
              "0   JHU Daily     Deaths      0  ...  -64.8963  3/26/2020 7:50:18 AM   3/25/2020\n",
              "1   JHU Daily  Confirmed     17  ...  -64.8963  3/26/2020 7:50:18 AM   3/25/2020\n",
              "2   JHU Daily     Deaths      2  ...  -66.5901  3/26/2020 7:50:18 AM   3/25/2020\n",
              "3   JHU Daily  Confirmed     51  ...  -66.5901  3/26/2020 7:50:18 AM   3/25/2020\n",
              "4   JHU Daily     Deaths      1  ...  144.7937  3/26/2020 7:50:18 AM   3/25/2020\n",
              "\n",
              "[5 rows x 14 columns]"
            ]
          },
          "metadata": {
            "tags": []
          },
          "execution_count": 21
        }
      ]
    },
    {
      "cell_type": "code",
      "metadata": {
        "id": "C6QFJAw0D3g8",
        "colab_type": "code",
        "outputId": "95090358-c9a2-4f4e-9528-15377f4ec64b",
        "colab": {
          "base_uri": "https://localhost:8080/",
          "height": 289
        }
      },
      "source": [
        "df1=df[df['Country_Region']=='India'] #Retriving cases for India\n",
        "df1.head()"
      ],
      "execution_count": 8,
      "outputs": [
        {
          "output_type": "execute_result",
          "data": {
            "text/html": [
              "<div>\n",
              "<style scoped>\n",
              "    .dataframe tbody tr th:only-of-type {\n",
              "        vertical-align: middle;\n",
              "    }\n",
              "\n",
              "    .dataframe tbody tr th {\n",
              "        vertical-align: top;\n",
              "    }\n",
              "\n",
              "    .dataframe thead th {\n",
              "        text-align: right;\n",
              "    }\n",
              "</style>\n",
              "<table border=\"1\" class=\"dataframe\">\n",
              "  <thead>\n",
              "    <tr style=\"text-align: right;\">\n",
              "      <th></th>\n",
              "      <th>Table Names</th>\n",
              "      <th>Case_Type</th>\n",
              "      <th>Cases</th>\n",
              "      <th>Difference</th>\n",
              "      <th>Date</th>\n",
              "      <th>Country_Region</th>\n",
              "      <th>Province_State</th>\n",
              "      <th>Admin2</th>\n",
              "      <th>FIPS</th>\n",
              "      <th>Combined_Key</th>\n",
              "      <th>Lat</th>\n",
              "      <th>Long</th>\n",
              "      <th>Prep_Flow_Runtime</th>\n",
              "      <th>Latest_Date</th>\n",
              "    </tr>\n",
              "  </thead>\n",
              "  <tbody>\n",
              "    <tr>\n",
              "      <th>27420</th>\n",
              "      <td>JHU Timeseries</td>\n",
              "      <td>Confirmed</td>\n",
              "      <td>0</td>\n",
              "      <td>0</td>\n",
              "      <td>2020-01-22</td>\n",
              "      <td>India</td>\n",
              "      <td>NaN</td>\n",
              "      <td>NaN</td>\n",
              "      <td>NaN</td>\n",
              "      <td>NaN</td>\n",
              "      <td>21.0</td>\n",
              "      <td>78.0</td>\n",
              "      <td>3/26/2020 7:50:18 AM</td>\n",
              "      <td>3/25/2020</td>\n",
              "    </tr>\n",
              "    <tr>\n",
              "      <th>27421</th>\n",
              "      <td>JHU Timeseries</td>\n",
              "      <td>Confirmed</td>\n",
              "      <td>0</td>\n",
              "      <td>0</td>\n",
              "      <td>2020-01-23</td>\n",
              "      <td>India</td>\n",
              "      <td>NaN</td>\n",
              "      <td>NaN</td>\n",
              "      <td>NaN</td>\n",
              "      <td>NaN</td>\n",
              "      <td>21.0</td>\n",
              "      <td>78.0</td>\n",
              "      <td>3/26/2020 7:50:18 AM</td>\n",
              "      <td>3/25/2020</td>\n",
              "    </tr>\n",
              "    <tr>\n",
              "      <th>27422</th>\n",
              "      <td>JHU Timeseries</td>\n",
              "      <td>Confirmed</td>\n",
              "      <td>0</td>\n",
              "      <td>0</td>\n",
              "      <td>2020-01-24</td>\n",
              "      <td>India</td>\n",
              "      <td>NaN</td>\n",
              "      <td>NaN</td>\n",
              "      <td>NaN</td>\n",
              "      <td>NaN</td>\n",
              "      <td>21.0</td>\n",
              "      <td>78.0</td>\n",
              "      <td>3/26/2020 7:50:18 AM</td>\n",
              "      <td>3/25/2020</td>\n",
              "    </tr>\n",
              "    <tr>\n",
              "      <th>27423</th>\n",
              "      <td>JHU Timeseries</td>\n",
              "      <td>Confirmed</td>\n",
              "      <td>0</td>\n",
              "      <td>0</td>\n",
              "      <td>2020-01-25</td>\n",
              "      <td>India</td>\n",
              "      <td>NaN</td>\n",
              "      <td>NaN</td>\n",
              "      <td>NaN</td>\n",
              "      <td>NaN</td>\n",
              "      <td>21.0</td>\n",
              "      <td>78.0</td>\n",
              "      <td>3/26/2020 7:50:18 AM</td>\n",
              "      <td>3/25/2020</td>\n",
              "    </tr>\n",
              "    <tr>\n",
              "      <th>27424</th>\n",
              "      <td>JHU Timeseries</td>\n",
              "      <td>Confirmed</td>\n",
              "      <td>0</td>\n",
              "      <td>0</td>\n",
              "      <td>2020-01-26</td>\n",
              "      <td>India</td>\n",
              "      <td>NaN</td>\n",
              "      <td>NaN</td>\n",
              "      <td>NaN</td>\n",
              "      <td>NaN</td>\n",
              "      <td>21.0</td>\n",
              "      <td>78.0</td>\n",
              "      <td>3/26/2020 7:50:18 AM</td>\n",
              "      <td>3/25/2020</td>\n",
              "    </tr>\n",
              "  </tbody>\n",
              "</table>\n",
              "</div>"
            ],
            "text/plain": [
              "          Table Names  Case_Type  Cases  ...  Long     Prep_Flow_Runtime Latest_Date\n",
              "27420  JHU Timeseries  Confirmed      0  ...  78.0  3/26/2020 7:50:18 AM   3/25/2020\n",
              "27421  JHU Timeseries  Confirmed      0  ...  78.0  3/26/2020 7:50:18 AM   3/25/2020\n",
              "27422  JHU Timeseries  Confirmed      0  ...  78.0  3/26/2020 7:50:18 AM   3/25/2020\n",
              "27423  JHU Timeseries  Confirmed      0  ...  78.0  3/26/2020 7:50:18 AM   3/25/2020\n",
              "27424  JHU Timeseries  Confirmed      0  ...  78.0  3/26/2020 7:50:18 AM   3/25/2020\n",
              "\n",
              "[5 rows x 14 columns]"
            ]
          },
          "metadata": {
            "tags": []
          },
          "execution_count": 8
        }
      ]
    },
    {
      "cell_type": "code",
      "metadata": {
        "id": "YyMv3UCoEOiW",
        "colab_type": "code",
        "outputId": "8381f032-b8c6-4914-a14a-632e09f169fe",
        "colab": {
          "base_uri": "https://localhost:8080/",
          "height": 289
        }
      },
      "source": [
        "df2=df1[df1['Case_Type']=='Confirmed'] #Filtering only confirmed cases\n",
        "df2.head()"
      ],
      "execution_count": 9,
      "outputs": [
        {
          "output_type": "execute_result",
          "data": {
            "text/html": [
              "<div>\n",
              "<style scoped>\n",
              "    .dataframe tbody tr th:only-of-type {\n",
              "        vertical-align: middle;\n",
              "    }\n",
              "\n",
              "    .dataframe tbody tr th {\n",
              "        vertical-align: top;\n",
              "    }\n",
              "\n",
              "    .dataframe thead th {\n",
              "        text-align: right;\n",
              "    }\n",
              "</style>\n",
              "<table border=\"1\" class=\"dataframe\">\n",
              "  <thead>\n",
              "    <tr style=\"text-align: right;\">\n",
              "      <th></th>\n",
              "      <th>Table Names</th>\n",
              "      <th>Case_Type</th>\n",
              "      <th>Cases</th>\n",
              "      <th>Difference</th>\n",
              "      <th>Date</th>\n",
              "      <th>Country_Region</th>\n",
              "      <th>Province_State</th>\n",
              "      <th>Admin2</th>\n",
              "      <th>FIPS</th>\n",
              "      <th>Combined_Key</th>\n",
              "      <th>Lat</th>\n",
              "      <th>Long</th>\n",
              "      <th>Prep_Flow_Runtime</th>\n",
              "      <th>Latest_Date</th>\n",
              "    </tr>\n",
              "  </thead>\n",
              "  <tbody>\n",
              "    <tr>\n",
              "      <th>27420</th>\n",
              "      <td>JHU Timeseries</td>\n",
              "      <td>Confirmed</td>\n",
              "      <td>0</td>\n",
              "      <td>0</td>\n",
              "      <td>2020-01-22</td>\n",
              "      <td>India</td>\n",
              "      <td>NaN</td>\n",
              "      <td>NaN</td>\n",
              "      <td>NaN</td>\n",
              "      <td>NaN</td>\n",
              "      <td>21.0</td>\n",
              "      <td>78.0</td>\n",
              "      <td>3/26/2020 7:50:18 AM</td>\n",
              "      <td>3/25/2020</td>\n",
              "    </tr>\n",
              "    <tr>\n",
              "      <th>27421</th>\n",
              "      <td>JHU Timeseries</td>\n",
              "      <td>Confirmed</td>\n",
              "      <td>0</td>\n",
              "      <td>0</td>\n",
              "      <td>2020-01-23</td>\n",
              "      <td>India</td>\n",
              "      <td>NaN</td>\n",
              "      <td>NaN</td>\n",
              "      <td>NaN</td>\n",
              "      <td>NaN</td>\n",
              "      <td>21.0</td>\n",
              "      <td>78.0</td>\n",
              "      <td>3/26/2020 7:50:18 AM</td>\n",
              "      <td>3/25/2020</td>\n",
              "    </tr>\n",
              "    <tr>\n",
              "      <th>27422</th>\n",
              "      <td>JHU Timeseries</td>\n",
              "      <td>Confirmed</td>\n",
              "      <td>0</td>\n",
              "      <td>0</td>\n",
              "      <td>2020-01-24</td>\n",
              "      <td>India</td>\n",
              "      <td>NaN</td>\n",
              "      <td>NaN</td>\n",
              "      <td>NaN</td>\n",
              "      <td>NaN</td>\n",
              "      <td>21.0</td>\n",
              "      <td>78.0</td>\n",
              "      <td>3/26/2020 7:50:18 AM</td>\n",
              "      <td>3/25/2020</td>\n",
              "    </tr>\n",
              "    <tr>\n",
              "      <th>27423</th>\n",
              "      <td>JHU Timeseries</td>\n",
              "      <td>Confirmed</td>\n",
              "      <td>0</td>\n",
              "      <td>0</td>\n",
              "      <td>2020-01-25</td>\n",
              "      <td>India</td>\n",
              "      <td>NaN</td>\n",
              "      <td>NaN</td>\n",
              "      <td>NaN</td>\n",
              "      <td>NaN</td>\n",
              "      <td>21.0</td>\n",
              "      <td>78.0</td>\n",
              "      <td>3/26/2020 7:50:18 AM</td>\n",
              "      <td>3/25/2020</td>\n",
              "    </tr>\n",
              "    <tr>\n",
              "      <th>27424</th>\n",
              "      <td>JHU Timeseries</td>\n",
              "      <td>Confirmed</td>\n",
              "      <td>0</td>\n",
              "      <td>0</td>\n",
              "      <td>2020-01-26</td>\n",
              "      <td>India</td>\n",
              "      <td>NaN</td>\n",
              "      <td>NaN</td>\n",
              "      <td>NaN</td>\n",
              "      <td>NaN</td>\n",
              "      <td>21.0</td>\n",
              "      <td>78.0</td>\n",
              "      <td>3/26/2020 7:50:18 AM</td>\n",
              "      <td>3/25/2020</td>\n",
              "    </tr>\n",
              "  </tbody>\n",
              "</table>\n",
              "</div>"
            ],
            "text/plain": [
              "          Table Names  Case_Type  Cases  ...  Long     Prep_Flow_Runtime Latest_Date\n",
              "27420  JHU Timeseries  Confirmed      0  ...  78.0  3/26/2020 7:50:18 AM   3/25/2020\n",
              "27421  JHU Timeseries  Confirmed      0  ...  78.0  3/26/2020 7:50:18 AM   3/25/2020\n",
              "27422  JHU Timeseries  Confirmed      0  ...  78.0  3/26/2020 7:50:18 AM   3/25/2020\n",
              "27423  JHU Timeseries  Confirmed      0  ...  78.0  3/26/2020 7:50:18 AM   3/25/2020\n",
              "27424  JHU Timeseries  Confirmed      0  ...  78.0  3/26/2020 7:50:18 AM   3/25/2020\n",
              "\n",
              "[5 rows x 14 columns]"
            ]
          },
          "metadata": {
            "tags": []
          },
          "execution_count": 9
        }
      ]
    },
    {
      "cell_type": "code",
      "metadata": {
        "id": "41nqdHNRFFaY",
        "colab_type": "code",
        "colab": {}
      },
      "source": [
        "df2=df2.sort_values(by='Date') #Sort records by date \n",
        "df2['Date']=df2['Date'].astype('datetime64[ns]')"
      ],
      "execution_count": 0,
      "outputs": []
    },
    {
      "cell_type": "code",
      "metadata": {
        "id": "HYVlgxGiGh9t",
        "colab_type": "code",
        "outputId": "521feaf4-85b7-47a9-b250-8143cd0dfd55",
        "colab": {
          "base_uri": "https://localhost:8080/",
          "height": 204
        }
      },
      "source": [
        "df3=df2.filter(['Date','Cases','Difference'],axis=1) #Filtering only required data\n",
        "df3=df3.iloc[39:] #Taking data from 1st March onwards\n",
        "df3.head()"
      ],
      "execution_count": 28,
      "outputs": [
        {
          "output_type": "execute_result",
          "data": {
            "text/html": [
              "<div>\n",
              "<style scoped>\n",
              "    .dataframe tbody tr th:only-of-type {\n",
              "        vertical-align: middle;\n",
              "    }\n",
              "\n",
              "    .dataframe tbody tr th {\n",
              "        vertical-align: top;\n",
              "    }\n",
              "\n",
              "    .dataframe thead th {\n",
              "        text-align: right;\n",
              "    }\n",
              "</style>\n",
              "<table border=\"1\" class=\"dataframe\">\n",
              "  <thead>\n",
              "    <tr style=\"text-align: right;\">\n",
              "      <th></th>\n",
              "      <th>Date</th>\n",
              "      <th>Cases</th>\n",
              "      <th>Difference</th>\n",
              "    </tr>\n",
              "  </thead>\n",
              "  <tbody>\n",
              "    <tr>\n",
              "      <th>27459</th>\n",
              "      <td>2020-03-01</td>\n",
              "      <td>3</td>\n",
              "      <td>0</td>\n",
              "    </tr>\n",
              "    <tr>\n",
              "      <th>27470</th>\n",
              "      <td>2020-03-02</td>\n",
              "      <td>5</td>\n",
              "      <td>0</td>\n",
              "    </tr>\n",
              "    <tr>\n",
              "      <th>27477</th>\n",
              "      <td>2020-03-03</td>\n",
              "      <td>5</td>\n",
              "      <td>0</td>\n",
              "    </tr>\n",
              "    <tr>\n",
              "      <th>27478</th>\n",
              "      <td>2020-03-04</td>\n",
              "      <td>28</td>\n",
              "      <td>0</td>\n",
              "    </tr>\n",
              "    <tr>\n",
              "      <th>27479</th>\n",
              "      <td>2020-03-05</td>\n",
              "      <td>30</td>\n",
              "      <td>0</td>\n",
              "    </tr>\n",
              "  </tbody>\n",
              "</table>\n",
              "</div>"
            ],
            "text/plain": [
              "            Date  Cases  Difference\n",
              "27459 2020-03-01      3           0\n",
              "27470 2020-03-02      5           0\n",
              "27477 2020-03-03      5           0\n",
              "27478 2020-03-04     28           0\n",
              "27479 2020-03-05     30           0"
            ]
          },
          "metadata": {
            "tags": []
          },
          "execution_count": 28
        }
      ]
    },
    {
      "cell_type": "code",
      "metadata": {
        "id": "ioJqD_QPbvAs",
        "colab_type": "code",
        "outputId": "a1a48cb6-4750-4e28-c4de-44e5968f086d",
        "colab": {
          "base_uri": "https://localhost:8080/",
          "height": 279
        }
      },
      "source": [
        "import matplotlib.pyplot as plt      \n",
        "plt.plot(df3['Date'].dt.day,df3['Cases'])\n",
        "plt.xlabel('Date(from March 1st)')\n",
        "plt.ylabel('Cases')\n",
        "plt.grid(which='major', linestyle='-', linewidth='0.5', color=' red')\n",
        "#Plotting line plot using Matplotlib only:- Date vs Cases"
      ],
      "execution_count": 15,
      "outputs": [
        {
          "output_type": "display_data",
          "data": {
            "image/png": "[encoded data removed]",
            "text/plain": [
              "<Figure size 432x288 with 1 Axes>"
            ]
          },
          "metadata": {
            "tags": []
          }
        }
      ]
    },
    {
      "cell_type": "code",
      "metadata": {
        "id": "7j3R4uBqZHs2",
        "colab_type": "code",
        "outputId": "b0bb8f53-aaad-4111-81fb-0b0941273878",
        "colab": {
          "base_uri": "https://localhost:8080/",
          "height": 279
        }
      },
      "source": [
        "plt.plot(df3['Date'].dt.day,df3['Difference'])\n",
        "plt.xlabel('Date(from March 1st)')\n",
        "plt.ylabel('New cases on day')\n",
        "plt.grid(which='major', linestyle='-', linewidth='0.5', color='red')\n",
        "#Plotting daily found cases (diffrence)\n",
        "#Source data not updated properly for this graph at this point of time"
      ],
      "execution_count": 16,
      "outputs": [
        {
          "output_type": "display_data",
          "data": {
            "image/png": "[encoded data removed]",
            "text/plain": [
              "<Figure size 432x288 with 1 Axes>"
            ]
          },
          "metadata": {
            "tags": []
          }
        }
      ]
    },
    {
      "cell_type": "code",
      "metadata": {
        "id": "fyZ0ujPVdf-P",
        "colab_type": "code",
        "outputId": "5e491ce9-90c3-4432-bc5d-f34b0f98d134",
        "colab": {
          "base_uri": "https://localhost:8080/",
          "height": 303
        }
      },
      "source": [
        "#Plotting Cases vs Date using pandas line plot\n",
        "fig, ax = plt.subplots()\n",
        "df3.plot(kind='line', x='Date', y='Cases', ax=ax) \n",
        "\n",
        "# Customize the major grid \n",
        "ax.grid(which='major', linestyle='-', linewidth='0.5', color='red')\n",
        "# Customize the minor grid\n",
        "ax.grid(which='minor', linestyle=':', linewidth='0.5', color='black')"
      ],
      "execution_count": 34,
      "outputs": [
        {
          "output_type": "display_data",
          "data": {
            "image/png": "[encoded data removed]",
            "text/plain": [
              "<Figure size 432x288 with 1 Axes>"
            ]
          },
          "metadata": {
            "tags": []
          }
        }
      ]
    },
    {
      "cell_type": "code",
      "metadata": {
        "id": "8FtSe3mAbGsr",
        "colab_type": "code",
        "outputId": "496e50ba-eace-4284-fee1-e031f1d4e5ed",
        "colab": {
          "base_uri": "https://localhost:8080/",
          "height": 303
        }
      },
      "source": [
        "#Plotting Cases vs Diffrence(daily cases found) using pandas line plot\n",
        "\n",
        "fig, ax = plt.subplots()\n",
        "df3.plot(kind='line', x='Date', y='Difference', ax=ax)\n",
        "ax.grid(axis='both',linestyle='-', linewidth='0.5', color='red')\n",
        "\n",
        "# Customize the major grid#\n",
        "ax.grid(which='major', linestyle='-', linewidth='0.5', color='red')\n",
        "# Customize the minor grid\n",
        "ax.grid(which='minor', linestyle=':', linewidth='0.5', color='black')\n",
        "from google.colab import files\n",
        "plt.savefig(\"abc.png\") #saving Graph in png form\n",
        "files.download(\"abc.png\") #Downloading Graph"
      ],
      "execution_count": 25,
      "outputs": [
        {
          "output_type": "display_data",
          "data": {
            "image/png": "[encoded data removed]",
            "text/plain": [
              "<Figure size 432x288 with 1 Axes>"
            ]
          },
          "metadata": {
            "tags": []
          }
        }
      ]
    },
    {
      "cell_type": "code",
      "metadata": {
        "id": "OLoBTDUfcYcr",
        "colab_type": "code",
        "colab": {
          "base_uri": "https://localhost:8080/",
          "height": 303
        },
        "outputId": "36f73169-29f0-489d-81ad-326380d55b40"
      },
      "source": [
        "#Plotting both cases and diffrence in one gragh\n",
        "fig, ax = plt.subplots()\n",
        "df3.plot(kind='line', x='Date', y='Cases', ax=ax)\n",
        "df3.plot(kind='line', x='Date', y='Difference', ax=ax)\n",
        "\n",
        "# Customize the major grid\n",
        "ax.grid(which='major', linestyle='-', linewidth='0.5', color='red')\n",
        "# Customize the minor grid\n",
        "ax.grid(which='minor', linestyle=':', linewidth='0.5', color='black')"
      ],
      "execution_count": 35,
      "outputs": [
        {
          "output_type": "display_data",
          "data": {
            "image/png": "[encoded data removed]",
            "text/plain": [
              "<Figure size 432x288 with 1 Axes>"
            ]
          },
          "metadata": {
            "tags": []
          }
        }
      ]
    },
    {
      "cell_type": "code",
      "metadata": {
        "id": "3y7p8TdHdy5C",
        "colab_type": "code",
        "colab": {
          "base_uri": "https://localhost:8080/",
          "height": 235
        },
        "outputId": "8104f4fd-31c9-433f-eec4-21faf12462fe"
      },
      "source": [
        "# Creating Pivot table for converting case type rows to columns\n",
        "#New columns like confirmed and Deaths are created with corrosponding values \n",
        "d1=df1.pivot_table('Cases',['Country_Region','Date'],'Case_Type')\n",
        "d1.head()"
      ],
      "execution_count": 29,
      "outputs": [
        {
          "output_type": "execute_result",
          "data": {
            "text/html": [
              "<div>\n",
              "<style scoped>\n",
              "    .dataframe tbody tr th:only-of-type {\n",
              "        vertical-align: middle;\n",
              "    }\n",
              "\n",
              "    .dataframe tbody tr th {\n",
              "        vertical-align: top;\n",
              "    }\n",
              "\n",
              "    .dataframe thead th {\n",
              "        text-align: right;\n",
              "    }\n",
              "</style>\n",
              "<table border=\"1\" class=\"dataframe\">\n",
              "  <thead>\n",
              "    <tr style=\"text-align: right;\">\n",
              "      <th></th>\n",
              "      <th>Case_Type</th>\n",
              "      <th>Confirmed</th>\n",
              "      <th>Deaths</th>\n",
              "    </tr>\n",
              "    <tr>\n",
              "      <th>Country_Region</th>\n",
              "      <th>Date</th>\n",
              "      <th></th>\n",
              "      <th></th>\n",
              "    </tr>\n",
              "  </thead>\n",
              "  <tbody>\n",
              "    <tr>\n",
              "      <th rowspan=\"5\" valign=\"top\">India</th>\n",
              "      <th>2020-01-22</th>\n",
              "      <td>0</td>\n",
              "      <td>0</td>\n",
              "    </tr>\n",
              "    <tr>\n",
              "      <th>2020-01-23</th>\n",
              "      <td>0</td>\n",
              "      <td>0</td>\n",
              "    </tr>\n",
              "    <tr>\n",
              "      <th>2020-01-24</th>\n",
              "      <td>0</td>\n",
              "      <td>0</td>\n",
              "    </tr>\n",
              "    <tr>\n",
              "      <th>2020-01-25</th>\n",
              "      <td>0</td>\n",
              "      <td>0</td>\n",
              "    </tr>\n",
              "    <tr>\n",
              "      <th>2020-01-26</th>\n",
              "      <td>0</td>\n",
              "      <td>0</td>\n",
              "    </tr>\n",
              "  </tbody>\n",
              "</table>\n",
              "</div>"
            ],
            "text/plain": [
              "Case_Type                  Confirmed  Deaths\n",
              "Country_Region Date                         \n",
              "India          2020-01-22          0       0\n",
              "               2020-01-23          0       0\n",
              "               2020-01-24          0       0\n",
              "               2020-01-25          0       0\n",
              "               2020-01-26          0       0"
            ]
          },
          "metadata": {
            "tags": []
          },
          "execution_count": 29
        }
      ]
    },
    {
      "cell_type": "code",
      "metadata": {
        "id": "vLnW5pfqeeDU",
        "colab_type": "code",
        "colab": {
          "base_uri": "https://localhost:8080/",
          "height": 204
        },
        "outputId": "454b6b4c-41a2-4c57-ad61-435c45cfa51c"
      },
      "source": [
        "#Converting pivot table to dataframe fro plotting\n",
        "d2=pd.DataFrame(d1.to_records())\n",
        "d2=d2.iloc[39:]#filtering records from 1st March onwards\n",
        "d2.head()"
      ],
      "execution_count": 31,
      "outputs": [
        {
          "output_type": "execute_result",
          "data": {
            "text/html": [
              "<div>\n",
              "<style scoped>\n",
              "    .dataframe tbody tr th:only-of-type {\n",
              "        vertical-align: middle;\n",
              "    }\n",
              "\n",
              "    .dataframe tbody tr th {\n",
              "        vertical-align: top;\n",
              "    }\n",
              "\n",
              "    .dataframe thead th {\n",
              "        text-align: right;\n",
              "    }\n",
              "</style>\n",
              "<table border=\"1\" class=\"dataframe\">\n",
              "  <thead>\n",
              "    <tr style=\"text-align: right;\">\n",
              "      <th></th>\n",
              "      <th>Country_Region</th>\n",
              "      <th>Date</th>\n",
              "      <th>Confirmed</th>\n",
              "      <th>Deaths</th>\n",
              "    </tr>\n",
              "  </thead>\n",
              "  <tbody>\n",
              "    <tr>\n",
              "      <th>39</th>\n",
              "      <td>India</td>\n",
              "      <td>2020-03-01</td>\n",
              "      <td>3</td>\n",
              "      <td>0</td>\n",
              "    </tr>\n",
              "    <tr>\n",
              "      <th>40</th>\n",
              "      <td>India</td>\n",
              "      <td>2020-03-02</td>\n",
              "      <td>5</td>\n",
              "      <td>0</td>\n",
              "    </tr>\n",
              "    <tr>\n",
              "      <th>41</th>\n",
              "      <td>India</td>\n",
              "      <td>2020-03-03</td>\n",
              "      <td>5</td>\n",
              "      <td>0</td>\n",
              "    </tr>\n",
              "    <tr>\n",
              "      <th>42</th>\n",
              "      <td>India</td>\n",
              "      <td>2020-03-04</td>\n",
              "      <td>28</td>\n",
              "      <td>0</td>\n",
              "    </tr>\n",
              "    <tr>\n",
              "      <th>43</th>\n",
              "      <td>India</td>\n",
              "      <td>2020-03-05</td>\n",
              "      <td>30</td>\n",
              "      <td>0</td>\n",
              "    </tr>\n",
              "  </tbody>\n",
              "</table>\n",
              "</div>"
            ],
            "text/plain": [
              "   Country_Region       Date  Confirmed  Deaths\n",
              "39          India 2020-03-01          3       0\n",
              "40          India 2020-03-02          5       0\n",
              "41          India 2020-03-03          5       0\n",
              "42          India 2020-03-04         28       0\n",
              "43          India 2020-03-05         30       0"
            ]
          },
          "metadata": {
            "tags": []
          },
          "execution_count": 31
        }
      ]
    },
    {
      "cell_type": "code",
      "metadata": {
        "id": "mPYTqQTVe0bN",
        "colab_type": "code",
        "colab": {
          "base_uri": "https://localhost:8080/",
          "height": 303
        },
        "outputId": "d3f21c99-5a83-45e8-c441-6b39b455a527"
      },
      "source": [
        "#Plotting cases and deaths on single graph using pandas line plot\n",
        "fig, ax = plt.subplots()\n",
        "d2.plot(kind='line', x='Date', y='Confirmed', ax=ax)\n",
        "d2.plot(kind='line', x='Date', y='Deaths', ax=ax)\n",
        "\n",
        "# Customize the major grid\n",
        "ax.grid(which='major', linestyle='-', linewidth='0.5', color='red')\n",
        "# Customize the minor grid\n",
        "ax.grid(which='minor', linestyle=':', linewidth='0.5', color='black')"
      ],
      "execution_count": 36,
      "outputs": [
        {
          "output_type": "display_data",
          "data": {
            "image/png": "[encoded data removed]",
            "text/plain": [
              "<Figure size 432x288 with 1 Axes>"
            ]
          },
          "metadata": {
            "tags": []
          }
        }
      ]
    }
  ]
}